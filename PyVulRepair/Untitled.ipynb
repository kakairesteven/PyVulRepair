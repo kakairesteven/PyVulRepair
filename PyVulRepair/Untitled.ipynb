{
 "cells": [
  {
   "cell_type": "code",
   "execution_count": 1,
   "id": "1a2e23f9-41e8-4c10-a586-8de8e888d6ce",
   "metadata": {},
   "outputs": [],
   "source": [
    "import pandas as pd\n",
    "import datasets\n",
    "import os"
   ]
  },
  {
   "cell_type": "code",
   "execution_count": 2,
   "id": "b10d3493-94bb-4571-8dab-6cbcaca89dff",
   "metadata": {},
   "outputs": [
    {
     "data": {
      "application/vnd.jupyter.widget-view+json": {
       "model_id": "9d63588731f94984aa52e0fcf4176791",
       "version_major": 2,
       "version_minor": 0
      },
      "text/plain": [
       "Resolving data files:   0%|          | 0/36 [00:00<?, ?it/s]"
      ]
     },
     "metadata": {},
     "output_type": "display_data"
    }
   ],
   "source": [
    "# data_files = {\"train\":\"train.parquet\",\n",
    "#               \"test\":\"test.parquet\"\n",
    "#              }\n",
    "df = datasets.load_dataset('AfricaKing/TSSB-3M',\n",
    "                     # data_files=data_files\n",
    "                           split='train[:5%]'\n",
    "                          )"
   ]
  },
  {
   "cell_type": "code",
   "execution_count": 3,
   "id": "6673b6ab-f415-4ee0-b778-ba79c1480f13",
   "metadata": {},
   "outputs": [
    {
     "data": {
      "text/plain": [
       "172062"
      ]
     },
     "execution_count": 3,
     "metadata": {},
     "output_type": "execute_result"
    }
   ],
   "source": [
    "# source feature\n",
    "len(df['before'])"
   ]
  },
  {
   "cell_type": "code",
   "execution_count": 4,
   "id": "29d427b1-713d-465a-8905-73705201e061",
   "metadata": {},
   "outputs": [
    {
     "data": {
      "text/plain": [
       "Dataset({\n",
       "    features: ['project', 'commit_sha', 'parent_sha', 'file_path', 'project_url', 'likely_bug', 'comodified', 'in_function', 'diff', 'before', 'after', 'sstub_pattern', 'edit_script'],\n",
       "    num_rows: 172062\n",
       "})"
      ]
     },
     "execution_count": 4,
     "metadata": {},
     "output_type": "execute_result"
    }
   ],
   "source": [
    "# Create a split for the dataset\n",
    "df"
   ]
  },
  {
   "cell_type": "code",
   "execution_count": 5,
   "id": "fbc9fc06-5263-4731-9c69-d731647db2a7",
   "metadata": {},
   "outputs": [],
   "source": [
    "# Scripting in Python functio n\n",
    "def scriptFunction():\n",
    "    return \"\"\"\n",
    "    #!/bin/bash \\\n",
    "    #ech0 'this\"\n",
    "    \"\"\""
   ]
  },
  {
   "cell_type": "code",
   "execution_count": 6,
   "id": "4e7b8f21-9c32-4321-bdc1-772ddf357702",
   "metadata": {},
   "outputs": [
    {
     "data": {
      "text/plain": [
       "'\\n    #!/bin/bash     #ech0 \\'this\"\\n    '"
      ]
     },
     "execution_count": 6,
     "metadata": {},
     "output_type": "execute_result"
    }
   ],
   "source": [
    "scriptFunction()"
   ]
  }
 ],
 "metadata": {
  "kernelspec": {
   "display_name": "Python 3 (ipykernel)",
   "language": "python",
   "name": "python3"
  },
  "language_info": {
   "codemirror_mode": {
    "name": "ipython",
    "version": 3
   },
   "file_extension": ".py",
   "mimetype": "text/x-python",
   "name": "python",
   "nbconvert_exporter": "python",
   "pygments_lexer": "ipython3",
   "version": "3.10.12"
  }
 },
 "nbformat": 4,
 "nbformat_minor": 5
}
